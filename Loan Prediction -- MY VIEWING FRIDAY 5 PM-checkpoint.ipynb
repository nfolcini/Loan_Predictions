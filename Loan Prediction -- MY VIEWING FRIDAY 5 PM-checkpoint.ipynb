{
 "cells": [
  {
   "cell_type": "markdown",
   "metadata": {},
   "source": [
    "## Step 0: Business Understanding\n",
    "\n",
    "The bank wants to predict the probability of default for each loan defaulting on a loan, to facilitate the decision to extend credit on new loan applications."
   ]
  },
  {
   "cell_type": "markdown",
   "metadata": {},
   "source": [
    "## Step 1: Import File and Packages"
   ]
  },
  {
   "cell_type": "code",
   "execution_count": 1,
   "metadata": {},
   "outputs": [
    {
     "name": "stderr",
     "output_type": "stream",
     "text": [
      "C:\\Users\\nfolcini\\Anaconda2\\lib\\site-packages\\sklearn\\cross_validation.py:41: DeprecationWarning: This module was deprecated in version 0.18 in favor of the model_selection module into which all the refactored classes and functions are moved. Also note that the interface of the new CV iterators are different from that of this module. This module will be removed in 0.20.\n",
      "  \"This module will be removed in 0.20.\", DeprecationWarning)\n"
     ]
    }
   ],
   "source": [
    "import pandas as pd\n",
    "import numpy as np\n",
    "\n",
    "# remove warnings\n",
    "import warnings\n",
    "#warnings.filterwarnings('ignore')\n",
    "\n",
    "from xgboost import XGBClassifier\n",
    "# do I need the regressor???\n",
    "\n",
    "#from sklearn.model_selection import train_test_split\n",
    "#from sklearn.model_selection import GridSearchCV\n",
    "#from sklearn.metrics import accuracy_score"
   ]
  },
  {
   "cell_type": "code",
   "execution_count": 2,
   "metadata": {},
   "outputs": [
    {
     "name": "stderr",
     "output_type": "stream",
     "text": [
      "C:\\Users\\nfolcini\\Anaconda2\\lib\\site-packages\\IPython\\core\\interactiveshell.py:2718: DtypeWarning: Columns (16) have mixed types. Specify dtype option on import or set low_memory=False.\n",
      "  interactivity=interactivity, compiler=compiler, result=result)\n"
     ]
    }
   ],
   "source": [
    "df = pd.read_csv(\"LoansTrainingSet.csv\")"
   ]
  },
  {
   "cell_type": "code",
   "execution_count": null,
   "metadata": {
    "collapsed": true
   },
   "outputs": [],
   "source": [
    "### BASELINE:\n",
    "# 1) clean missing values minimally\n",
    "# 2) convert data types to correct format\n",
    "# 3) do dummys\n",
    "4) put in all the columns or NOT\n",
    "5) train test split and algorithm --not yet kfold\n",
    "\n",
    "### ARE YOU HAPPY WITH CRITERIA? R SQUARED\n",
    "\n",
    "ACCURACY OR \n",
    "RECALL WHEN I INPUT NEW DATA ACCURATELY CATCH SOMEONE WILL DEFAULTING!!!!! ON FUTURE DATA\n",
    "recall score.. we run it on the same data\n",
    "\n",
    "\n",
    "\n",
    "# IMBALANCES CLASSES: on chalkup, FOR SERVICE DISRUPTIONS!!!!==> READ ABOUT IT ON CHALK UP\n",
    "\n",
    "90-10% IS IMBALANCED-- \n",
    "\n",
    "import pandas as pd\n",
    "import numpy as np\n",
    "df = pd.read_csv(\"LoansTrainingSet.csv\")\n",
    "\n",
    "# remove warnings\n",
    "import warnings\n",
    "warnings.filterwarnings('ignore')\n",
    "\n",
    "# Zia: how to change the percentiles.. in DESCRIBE\n",
    "# how to map with a dicrionary???\n",
    "# how to print lists of numbers with formats!!!!, \n",
    "# Especifically, how do you output shape with commas???\n",
    "##print '${:,.2f}'.format(df.shape)\n",
    "# should i set nans and zero's to nulls??\n",
    "\n",
    "#n_estimators, max per leaf SHOWCASE GRIDSEARCH "
   ]
  },
  {
   "cell_type": "code",
   "execution_count": 3,
   "metadata": {
    "collapsed": true,
    "scrolled": true
   },
   "outputs": [],
   "source": [
    "# rename columns for convenience\n",
    "df.columns = ['loanid', 'custid', 'loan_status', 'loan_amount', 'term', 'credit_score', 'years_in_job', 'home_ownership', 'income', 'purpose', 'monthly_debt', 'years_credhistory', 'months_since_del', 'nr_accounts', 'nr_problems', 'credit_balance', 'max_credit', 'bankr', 'tax_liens']"
   ]
  },
  {
   "cell_type": "markdown",
   "metadata": {},
   "source": [
    "## Step 2: Understand and Validate Data"
   ]
  },
  {
   "cell_type": "markdown",
   "metadata": {
    "collapsed": true
   },
   "source": [
    "### Look at Data Info and Eliminate Duplicate Rows"
   ]
  },
  {
   "cell_type": "code",
   "execution_count": 4,
   "metadata": {},
   "outputs": [
    {
     "name": "stdout",
     "output_type": "stream",
     "text": [
      "(256984, 19)\n",
      "(240374, 19)\n"
     ]
    },
    {
     "data": {
      "text/plain": [
       "loanid                    0\n",
       "custid                    0\n",
       "loan_status               0\n",
       "loan_amount               0\n",
       "term                      0\n",
       "credit_score          59346\n",
       "years_in_job              0\n",
       "home_ownership            0\n",
       "income                59346\n",
       "purpose                   0\n",
       "monthly_debt              0\n",
       "years_credhistory         0\n",
       "months_since_del     131427\n",
       "nr_accounts               0\n",
       "nr_problems               0\n",
       "credit_balance            0\n",
       "max_credit                0\n",
       "bankr                   492\n",
       "tax_liens                23\n",
       "dtype: int64"
      ]
     },
     "execution_count": 4,
     "metadata": {},
     "output_type": "execute_result"
    }
   ],
   "source": [
    "#display data \n",
    "##df.info()\n",
    "\n",
    "#eliminate identical duplicate rows\n",
    "print df.shape  #256k rows\n",
    "df.drop_duplicates(inplace = True) #eliminate duplicate rows\n",
    "print df.shape # 240k rows remain after exact duplicates are dropped\n",
    "df.isnull().sum()"
   ]
  },
  {
   "cell_type": "markdown",
   "metadata": {},
   "source": [
    "### Data Overview and Missing Values\n",
    "#### OBSERVATIONS: \n",
    "- There are numerical and non-numerical variables.\n",
    "- 16k duplicate rows (exactly identical rows) were eliminated with drop_duplicates above\n",
    "- 59k entries are missing the credit_score and income. Other missing values for months_since_del, bank, and tax_liens"
   ]
  },
  {
   "cell_type": "code",
   "execution_count": 5,
   "metadata": {
    "collapsed": true
   },
   "outputs": [],
   "source": [
    "## STRATEGY: Eliminate missing tax_liens and bank unless IN THE FUTURE I determine that there is a certain way that is ok to fill those out!!!\n",
    "df.drop(df[df.tax_liens.isnull()].index, axis = 0, inplace = True)"
   ]
  },
  {
   "cell_type": "code",
   "execution_count": 6,
   "metadata": {
    "collapsed": true
   },
   "outputs": [],
   "source": [
    "df.drop(df[df.income.isnull()].index, axis = 0, inplace = True)"
   ]
  },
  {
   "cell_type": "code",
   "execution_count": 7,
   "metadata": {
    "collapsed": true
   },
   "outputs": [],
   "source": [
    "df.drop(df[df.bankr.isnull()].index, axis = 0, inplace = True)"
   ]
  },
  {
   "cell_type": "code",
   "execution_count": null,
   "metadata": {
    "collapsed": true
   },
   "outputs": [],
   "source": [
    "#df.drop(df[df.months_since_del.isnull()].index, axis = 0, inplace = True)"
   ]
  },
  {
   "cell_type": "code",
   "execution_count": 9,
   "metadata": {},
   "outputs": [],
   "source": [
    "df.drop('months_since_del', axis = 1, inplace = True)"
   ]
  },
  {
   "cell_type": "code",
   "execution_count": 10,
   "metadata": {
    "scrolled": true
   },
   "outputs": [
    {
     "data": {
      "text/plain": [
       "loanid               0\n",
       "custid               0\n",
       "loan_status          0\n",
       "loan_amount          0\n",
       "term                 0\n",
       "credit_score         0\n",
       "years_in_job         0\n",
       "home_ownership       0\n",
       "income               0\n",
       "purpose              0\n",
       "monthly_debt         0\n",
       "years_credhistory    0\n",
       "nr_accounts          0\n",
       "nr_problems          0\n",
       "credit_balance       0\n",
       "max_credit           0\n",
       "bankr                0\n",
       "tax_liens            0\n",
       "dtype: int64"
      ]
     },
     "execution_count": 10,
     "metadata": {},
     "output_type": "execute_result"
    }
   ],
   "source": [
    "# examine missing values \n",
    "df.isnull().sum()"
   ]
  },
  {
   "cell_type": "markdown",
   "metadata": {
    "collapsed": true
   },
   "source": [
    "\n",
    "\n",
    "### Loan ID Validation\n",
    "\n",
    "Now, Analyze the Duplicated Loan ID's"
   ]
  },
  {
   "cell_type": "markdown",
   "metadata": {},
   "source": [
    "### OBSERVATIONS:\n",
    "\n",
    "#### - We see that the rows missing credit_score and income could be merged with other rows of same loan id or customer id, using GROUP BY\n",
    "\n",
    "#### - HOWEVER, first we will address the Credit Score values over 800, which need to be corrected:\n"
   ]
  },
  {
   "cell_type": "code",
   "execution_count": 11,
   "metadata": {},
   "outputs": [
    {
     "name": "stdout",
     "output_type": "stream",
     "text": [
      "751.0\n"
     ]
    },
    {
     "data": {
      "image/png": "[encoded data removed]",
      "text/plain": [
       "<matplotlib.figure.Figure at 0xf923c18>"
      ]
     },
     "metadata": {},
     "output_type": "display_data"
    }
   ],
   "source": [
    "#find credit score entries over 800, there are 14k\n",
    "high_cc = df[df.credit_score > 800]\n",
    "\n",
    "import matplotlib.pyplot as plt\n",
    "%matplotlib inline\n",
    "plt.hist(high_cc.credit_score)\n",
    "\n",
    "# divide those values by 10 to obtain credit scores in the correct range 530-750, per histogram !!!\n",
    "df.credit_score = df.credit_score.apply(lambda x:x/10 if x > 800 else x)\n",
    "print df.credit_score.max()"
   ]
  },
  {
   "cell_type": "code",
   "execution_count": 17,
   "metadata": {},
   "outputs": [
    {
     "data": {
      "text/plain": [
       "170837"
      ]
     },
     "execution_count": 17,
     "metadata": {},
     "output_type": "execute_result"
    }
   ],
   "source": [
    "df.loanid.nunique()"
   ]
  },
  {
   "cell_type": "code",
   "execution_count": 18,
   "metadata": {
    "scrolled": true
   },
   "outputs": [
    {
     "data": {
      "text/plain": [
       "(180650, 18)"
      ]
     },
     "execution_count": 18,
     "metadata": {},
     "output_type": "execute_result"
    }
   ],
   "source": [
    "df.shape"
   ]
  },
  {
   "cell_type": "markdown",
   "metadata": {},
   "source": [
    "## Validate Loan Status"
   ]
  },
  {
   "cell_type": "code",
   "execution_count": 12,
   "metadata": {},
   "outputs": [
    {
     "data": {
      "text/plain": [
       "array(['Fully Paid', 'Charged Off'], dtype=object)"
      ]
     },
     "execution_count": 12,
     "metadata": {},
     "output_type": "execute_result"
    }
   ],
   "source": [
    "df.loan_status.unique()\n",
    "# Address missing values later, AFTER MERGING BY LOAN ID AND CUST ID"
   ]
  },
  {
   "cell_type": "markdown",
   "metadata": {},
   "source": [
    "## Validate Loan Amount"
   ]
  },
  {
   "cell_type": "code",
   "execution_count": 24,
   "metadata": {},
   "outputs": [
    {
     "data": {
      "text/plain": [
       "<matplotlib.axes._subplots.AxesSubplot at 0x109a2da0>"
      ]
     },
     "execution_count": 24,
     "metadata": {},
     "output_type": "execute_result"
    },
    {
     "data": {
      "image/png": "[encoded data removed]",
      "text/plain": [
       "<matplotlib.figure.Figure at 0xe226358>"
      ]
     },
     "metadata": {},
     "output_type": "display_data"
    }
   ],
   "source": [
    "# we see two completely different ranges of values for Loan Amount, so we look into it further\n",
    "# WE CREATE THE LOW DATAFRAME HAVING LOAN AMOUNTS UNDER 50k\n",
    "#df.loan_amount.hist(bins = 200)\n",
    "low = df[df.loan_amount < 200000]\n",
    "low.loan_amount.hist(bins = 200)\n",
    "#low.head()\n"
   ]
  },
  {
   "cell_type": "code",
   "execution_count": 29,
   "metadata": {},
   "outputs": [
    {
     "data": {
      "text/plain": [
       "(180650, 18)"
      ]
     },
     "execution_count": 29,
     "metadata": {},
     "output_type": "execute_result"
    }
   ],
   "source": [
    "df.shape"
   ]
  },
  {
   "cell_type": "code",
   "execution_count": 31,
   "metadata": {},
   "outputs": [
    {
     "data": {
      "text/plain": [
       "(35139, 18)"
      ]
     },
     "execution_count": 31,
     "metadata": {},
     "output_type": "execute_result"
    }
   ],
   "source": [
    "dd = df[df.loan_amount > 40000]\n",
    "dd.shape"
   ]
  },
  {
   "cell_type": "code",
   "execution_count": 37,
   "metadata": {},
   "outputs": [
    {
     "data": {
      "text/plain": [
       "(0, 18)"
      ]
     },
     "execution_count": 37,
     "metadata": {},
     "output_type": "execute_result"
    }
   ],
   "source": [
    "da = df[ ((df.loan_amount > 40000) & (df.loan_amount <1000000))]\n",
    "da.shape       "
   ]
  },
  {
   "cell_type": "code",
   "execution_count": 42,
   "metadata": {},
   "outputs": [
    {
     "data": {
      "text/plain": [
       "(35139, 18)"
      ]
     },
     "execution_count": 42,
     "metadata": {},
     "output_type": "execute_result"
    }
   ],
   "source": [
    "dl = df[df.loan_amount > 2000000]\n",
    "dl.shape"
   ]
  },
  {
   "cell_type": "markdown",
   "metadata": {},
   "source": [
    "## Drop Loan Values over 2 Million"
   ]
  },
  {
   "cell_type": "code",
   "execution_count": 28,
   "metadata": {},
   "outputs": [
    {
     "name": "stdout",
     "output_type": "stream",
     "text": [
      "(180650, 18)\n"
     ]
    }
   ],
   "source": [
    "dd = df[((df.loan_amount > 40000) & (df.loan_amount <1000000))]\n",
    "dd.shape\n",
    "print df.shape"
   ]
  },
  {
   "cell_type": "code",
   "execution_count": 43,
   "metadata": {
    "collapsed": true
   },
   "outputs": [],
   "source": [
    "df = df[df.loan_amount < 2000000]"
   ]
  },
  {
   "cell_type": "code",
   "execution_count": 46,
   "metadata": {},
   "outputs": [
    {
     "data": {
      "text/plain": [
       "count    145511.000000\n",
       "mean      13935.189374\n",
       "std        8253.988692\n",
       "min         975.000000\n",
       "25%        7801.000000\n",
       "50%       12034.000000\n",
       "75%       19304.000000\n",
       "max       39304.000000\n",
       "Name: loan_amount, dtype: float64"
      ]
     },
     "execution_count": 46,
     "metadata": {},
     "output_type": "execute_result"
    }
   ],
   "source": [
    "df.loan_amount.describe()\n",
    "#low.loan_amount.hist(bins = 200)"
   ]
  },
  {
   "cell_type": "code",
   "execution_count": 44,
   "metadata": {},
   "outputs": [
    {
     "data": {
      "text/plain": [
       "(145511, 18)"
      ]
     },
     "execution_count": 44,
     "metadata": {},
     "output_type": "execute_result"
    }
   ],
   "source": [
    "df.shape"
   ]
  },
  {
   "cell_type": "markdown",
   "metadata": {},
   "source": [
    "## Validate term"
   ]
  },
  {
   "cell_type": "markdown",
   "metadata": {},
   "source": [
    "### Term is significant"
   ]
  },
  {
   "cell_type": "code",
   "execution_count": 48,
   "metadata": {},
   "outputs": [
    {
     "data": {
      "text/plain": [
       "Short Term    108905\n",
       "Long Term      36606\n",
       "Name: term, dtype: int64"
      ]
     },
     "execution_count": 48,
     "metadata": {},
     "output_type": "execute_result"
    }
   ],
   "source": [
    "df.term.nunique()\n",
    "df.term.value_counts()"
   ]
  },
  {
   "cell_type": "code",
   "execution_count": 58,
   "metadata": {},
   "outputs": [
    {
     "data": {
      "text/plain": [
       "term        loan_status\n",
       "Long Term   Charged Off    17268\n",
       "            Fully Paid     19338\n",
       "Short Term  Charged Off    29693\n",
       "            Fully Paid     79212\n",
       "dtype: int64"
      ]
     },
     "execution_count": 58,
     "metadata": {},
     "output_type": "execute_result"
    }
   ],
   "source": [
    "df.groupby(['term', 'loan_status']).size()"
   ]
  },
  {
   "cell_type": "markdown",
   "metadata": {},
   "source": [
    "### Validate Credit Scores"
   ]
  },
  {
   "cell_type": "code",
   "execution_count": 59,
   "metadata": {},
   "outputs": [
    {
     "data": {
      "text/plain": [
       "<matplotlib.axes._subplots.AxesSubplot at 0x11e5b978>"
      ]
     },
     "execution_count": 59,
     "metadata": {},
     "output_type": "execute_result"
    },
    {
     "data": {
      "image/png": "[encoded data removed]",
      "text/plain": [
       "<matplotlib.figure.Figure at 0x11e5b898>"
      ]
     },
     "metadata": {},
     "output_type": "display_data"
    }
   ],
   "source": [
    "df.credit_score.hist()"
   ]
  },
  {
   "cell_type": "markdown",
   "metadata": {},
   "source": [
    "## Validate Years in Job"
   ]
  },
  {
   "cell_type": "code",
   "execution_count": 62,
   "metadata": {},
   "outputs": [
    {
     "data": {
      "text/plain": [
       "10+ years    44630\n",
       "2 years      13373\n",
       "< 1 year     11913\n",
       "3 years      11727\n",
       "5 years      10202\n",
       "1 year        9481\n",
       "4 years       9039\n",
       "6 years       8195\n",
       "7 years       7825\n",
       "8 years       6958\n",
       "n/a           6535\n",
       "9 years       5633\n",
       "Name: years_in_job, dtype: int64"
      ]
     },
     "execution_count": 62,
     "metadata": {},
     "output_type": "execute_result"
    }
   ],
   "source": [
    "df.years_in_job.value_counts(dropna = False)\n",
    "#Need to REPLACE N/A --- GROUP BY CUSTOMER ID\n",
    "# OR REPLACE BY ZERO!!!!!"
   ]
  },
  {
   "cell_type": "code",
   "execution_count": 66,
   "metadata": {},
   "outputs": [],
   "source": [
    "df.years_in_job.replace('n/a', '< 1 year', inplace = True)"
   ]
  },
  {
   "cell_type": "code",
   "execution_count": 68,
   "metadata": {},
   "outputs": [
    {
     "data": {
      "text/plain": [
       "10+ years    44630\n",
       "< 1 year     18448\n",
       "2 years      13373\n",
       "3 years      11727\n",
       "5 years      10202\n",
       "1 year        9481\n",
       "4 years       9039\n",
       "6 years       8195\n",
       "7 years       7825\n",
       "8 years       6958\n",
       "9 years       5633\n",
       "Name: years_in_job, dtype: int64"
      ]
     },
     "execution_count": 68,
     "metadata": {},
     "output_type": "execute_result"
    }
   ],
   "source": [
    "df.years_in_job.value_counts()"
   ]
  },
  {
   "cell_type": "markdown",
   "metadata": {},
   "source": [
    "## Validate Home Ownership"
   ]
  },
  {
   "cell_type": "code",
   "execution_count": 69,
   "metadata": {},
   "outputs": [
    {
     "name": "stdout",
     "output_type": "stream",
     "text": [
      "<class 'pandas.core.frame.DataFrame'>\n",
      "Int64Index: 145511 entries, 0 to 256983\n",
      "Data columns (total 18 columns):\n",
      "loanid               145511 non-null object\n",
      "custid               145511 non-null object\n",
      "loan_status          145511 non-null object\n",
      "loan_amount          145511 non-null int64\n",
      "term                 145511 non-null object\n",
      "credit_score         145511 non-null float64\n",
      "years_in_job         145511 non-null object\n",
      "home_ownership       145511 non-null object\n",
      "income               145511 non-null float64\n",
      "purpose              145511 non-null object\n",
      "monthly_debt         145511 non-null object\n",
      "years_credhistory    145511 non-null float64\n",
      "nr_accounts          145511 non-null int64\n",
      "nr_problems          145511 non-null int64\n",
      "credit_balance       145511 non-null int64\n",
      "max_credit           145511 non-null object\n",
      "bankr                145511 non-null float64\n",
      "tax_liens            145511 non-null float64\n",
      "dtypes: float64(5), int64(4), object(9)\n",
      "memory usage: 26.1+ MB\n"
     ]
    }
   ],
   "source": [
    "df.info()"
   ]
  },
  {
   "cell_type": "code",
   "execution_count": 73,
   "metadata": {},
   "outputs": [
    {
     "data": {
      "text/plain": [
       "Home Mortgage    70558\n",
       "Rent             61887\n",
       "Own Home         13066\n",
       "Name: home_ownership, dtype: int64"
      ]
     },
     "execution_count": 73,
     "metadata": {},
     "output_type": "execute_result"
    }
   ],
   "source": [
    "df.home_ownership.value_counts()\n",
    "#\n",
    "#df.loc [df.home_ownership == 'HaveMortgage', 'home_ownership'] = \"Home Mortgage\"\n",
    "df.home_ownership.value_counts()"
   ]
  },
  {
   "cell_type": "markdown",
   "metadata": {},
   "source": [
    "## Validate income"
   ]
  },
  {
   "cell_type": "code",
   "execution_count": 77,
   "metadata": {},
   "outputs": [
    {
     "data": {
      "text/plain": [
       "(145511, 18)"
      ]
     },
     "execution_count": 77,
     "metadata": {},
     "output_type": "execute_result"
    }
   ],
   "source": [
    "df.shape"
   ]
  },
  {
   "cell_type": "code",
   "execution_count": 97,
   "metadata": {},
   "outputs": [
    {
     "data": {
      "text/plain": [
       "236280.0"
      ]
     },
     "execution_count": 97,
     "metadata": {},
     "output_type": "execute_result"
    }
   ],
   "source": [
    "MOC99 = df.income.quantile(.99)\n",
    "MOC99"
   ]
  },
  {
   "cell_type": "code",
   "execution_count": 83,
   "metadata": {},
   "outputs": [
    {
     "data": {
      "text/plain": [
       "(144348, 18)"
      ]
     },
     "execution_count": 83,
     "metadata": {},
     "output_type": "execute_result"
    },
    {
     "data": {
      "image/png": "[encoded data removed]",
      "text/plain": [
       "<matplotlib.figure.Figure at 0xc015048>"
      ]
     },
     "metadata": {},
     "output_type": "display_data"
    }
   ],
   "source": [
    "# NEED TO FILL MISSING VALUES!!!\n",
    "#df.income.hist()\n",
    "low = df[df.income < 250000]\n",
    "low.income.hist()\n",
    "low.shape"
   ]
  },
  {
   "cell_type": "code",
   "execution_count": 99,
   "metadata": {},
   "outputs": [
    {
     "data": {
      "text/plain": [
       "<matplotlib.axes._subplots.AxesSubplot at 0x1bba2128>"
      ]
     },
     "execution_count": 99,
     "metadata": {},
     "output_type": "execute_result"
    },
    {
     "data": {
      "image/png": "[encoded data removed]",
      "text/plain": [
       "<matplotlib.figure.Figure at 0x1bd97ba8>"
      ]
     },
     "metadata": {},
     "output_type": "display_data"
    }
   ],
   "source": [
    "hh = df[df.income > 500000]\n",
    "hh.income.hist()\n",
    "#hh.describe()"
   ]
  },
  {
   "cell_type": "code",
   "execution_count": 93,
   "metadata": {},
   "outputs": [
    {
     "data": {
      "text/plain": [
       "(650, 18)"
      ]
     },
     "execution_count": 93,
     "metadata": {},
     "output_type": "execute_result"
    }
   ],
   "source": [
    "highest = df[df.income > 300000 ]\n",
    "#######high.hist() COOL TO RUN!!!!!\n",
    "#highest.income.hist()\n",
    "highest.shape\n",
    "#highest.describe()"
   ]
  },
  {
   "cell_type": "code",
   "execution_count": null,
   "metadata": {
    "collapsed": true
   },
   "outputs": [],
   "source": [
    "df.info()"
   ]
  },
  {
   "cell_type": "markdown",
   "metadata": {},
   "source": [
    "## Validate Purpose"
   ]
  },
  {
   "cell_type": "code",
   "execution_count": null,
   "metadata": {
    "collapsed": true
   },
   "outputs": [],
   "source": [
    "df.purpose.value_counts()"
   ]
  },
  {
   "cell_type": "code",
   "execution_count": null,
   "metadata": {
    "collapsed": true
   },
   "outputs": [],
   "source": [
    "df.loc[df.purpose == 'Other', 'purpose'] = 'other'\n",
    "df.purpose.value_counts()"
   ]
  },
  {
   "cell_type": "markdown",
   "metadata": {},
   "source": [
    "## Validate monthly debt"
   ]
  },
  {
   "cell_type": "code",
   "execution_count": null,
   "metadata": {
    "collapsed": true
   },
   "outputs": [],
   "source": [
    "df.monthly_debt.value_counts()\n",
    "#df.monthly_debt.isnull().sum()\n",
    "#df.monthly_debt.hist()\n",
    "#try (df.monthly_debt.astype(float))\n",
    "\n",
    "dollar_dec = float(df.monthly_debt.)\n",
    "\n",
    "df.monthly_debt = df.monthly_debt.apply(lambda x: float )"
   ]
  },
  {
   "cell_type": "code",
   "execution_count": null,
   "metadata": {
    "collapsed": true
   },
   "outputs": [],
   "source": [
    "#df.monthly_debt = df.monthly_debt.str.replace ('$', '')\n",
    "#df.monthly_debt = df.monthly_debt.str.replace (',', '')\n",
    "#df.monthly_debt = df.monthly_debt.apply(lambda x: float(x) )"
   ]
  },
  {
   "cell_type": "code",
   "execution_count": null,
   "metadata": {
    "collapsed": true
   },
   "outputs": [],
   "source": [
    "high = df [df.monthly_debt > 10000]\n",
    "high.monthly_debt.hist()\n",
    "df.monthly_debt.hist()\n",
    "print df[df.monthly_debt > 5000].shape\n",
    "print df[df.monthly_debt <= 5000].shape\n",
    "\n",
    "## 1 % of customers have monthly debt over 5000\n",
    "high\n",
    "\n",
    "df[df.monthly_debt >5000]\n",
    "df.monthly_debt.describe(percentiles = [.25, .5, .95])"
   ]
  },
  {
   "cell_type": "code",
   "execution_count": null,
   "metadata": {
    "collapsed": true
   },
   "outputs": [],
   "source": [
    "df[df.monthly_debt == 0]"
   ]
  },
  {
   "cell_type": "markdown",
   "metadata": {},
   "source": [
    "## Validate Credit History"
   ]
  },
  {
   "cell_type": "code",
   "execution_count": null,
   "metadata": {
    "collapsed": true
   },
   "outputs": [],
   "source": [
    "df.years_credhistory.value_counts()\n",
    "\n",
    "df.years_credhistory.describe()\n",
    "\n",
    "df[df.years_credhistory > 60].shape\n",
    "\n",
    "## DROP THEM!!!"
   ]
  },
  {
   "cell_type": "code",
   "execution_count": null,
   "metadata": {
    "collapsed": true
   },
   "outputs": [],
   "source": [
    "## Validate "
   ]
  },
  {
   "cell_type": "markdown",
   "metadata": {},
   "source": [
    "df.info()"
   ]
  },
  {
   "cell_type": "code",
   "execution_count": null,
   "metadata": {
    "collapsed": true
   },
   "outputs": [],
   "source": [
    "df."
   ]
  },
  {
   "cell_type": "markdown",
   "metadata": {},
   "source": [
    "### Group by Loan ID's to Eliminate Loan ID Duplicates"
   ]
  },
  {
   "cell_type": "code",
   "execution_count": null,
   "metadata": {
    "collapsed": true
   },
   "outputs": [],
   "source": [
    "for i in range(80,81):\n",
    "    destroy = df[df.loanid == unique_dups.iloc[i,0]]\n",
    "    destroyed = elimNAs(destroy)\n",
    "    print destroy"
   ]
  },
  {
   "cell_type": "code",
   "execution_count": null,
   "metadata": {
    "collapsed": true
   },
   "outputs": [],
   "source": [
    "df.groupby('loanid').agg('loan_amount':'mean')"
   ]
  },
  {
   "cell_type": "markdown",
   "metadata": {},
   "source": [
    "## Replace Missing Values"
   ]
  },
  {
   "cell_type": "code",
   "execution_count": null,
   "metadata": {
    "collapsed": true
   },
   "outputs": [],
   "source": [
    "## GRAB FIRST ROW, \n",
    "## FOR EACH COLUMN, \n",
    "for j in len(destroy.columns)       \n",
    "    if destroy[0,j].isnull(): #found a column where the FIRST ROW value is null p\n",
    "        for i in rows\n",
    "            if (destroy[i,j].notnull()):\n",
    "                if(destroy[i,j]) == destroy[0,j])\n",
    "                    destroy[0,j] = destroy[i,j]\n",
    "\n",
    "    \n",
    " ###   if destroy[0,i].isnull():\n",
    " ###       if destroy[1,i].notnull():\n",
    "     ###       destroy[0,i] = destroy[1,i]\n",
    " ###   if (destroy[0,i]) !== destroy[1,i]:'''"
   ]
  },
  {
   "cell_type": "markdown",
   "metadata": {},
   "source": [
    "### Replace Tax Liens and Bankruptcies"
   ]
  },
  {
   "cell_type": "code",
   "execution_count": null,
   "metadata": {
    "collapsed": true
   },
   "outputs": [],
   "source": [
    "# replace Tax Liens with median\n",
    "loans['Tax Liens'].fillna(loans['Tax Liens'].median(), inplace = True)"
   ]
  },
  {
   "cell_type": "code",
   "execution_count": null,
   "metadata": {
    "collapsed": true
   },
   "outputs": [],
   "source": [
    "# replace Bankruptcies\n",
    "loans.Bankruptcies.fillna(0, inplace = True)"
   ]
  },
  {
   "cell_type": "code",
   "execution_count": null,
   "metadata": {
    "collapsed": true,
    "scrolled": true
   },
   "outputs": [],
   "source": [
    "# correct Credit Scores over 800\n",
    "loans['Credit Score'] = loans['Credit Score'].map (lambda x: x/10 if x>800 else x)\n"
   ]
  },
  {
   "cell_type": "code",
   "execution_count": null,
   "metadata": {
    "collapsed": true
   },
   "outputs": [],
   "source": [
    "loans['Credit Score'].describe()"
   ]
  },
  {
   "cell_type": "markdown",
   "metadata": {},
   "source": [
    "### Replace Missing Credit Scores"
   ]
  },
  {
   "cell_type": "code",
   "execution_count": null,
   "metadata": {
    "collapsed": true
   },
   "outputs": [],
   "source": [
    "# GOOD CODE ===> USE DROPNAs\n",
    "loans['Credit Score'].value_counts(dropna = False)"
   ]
  },
  {
   "cell_type": "code",
   "execution_count": null,
   "metadata": {
    "collapsed": true
   },
   "outputs": [],
   "source": [
    "import matplotlib.pyplot as plt\n",
    "%matplotlib inline\n",
    "plt.hist(scoresnn['Credit Score'])"
   ]
  },
  {
   "cell_type": "code",
   "execution_count": null,
   "metadata": {
    "collapsed": true
   },
   "outputs": [],
   "source": [
    "scoresnn = loans[loans['Credit Score'].notnull()]\n",
    "scoresnn.isnull().sum()"
   ]
  },
  {
   "cell_type": "markdown",
   "metadata": {},
   "source": [
    "### Fill Income"
   ]
  },
  {
   "cell_type": "code",
   "execution_count": null,
   "metadata": {
    "collapsed": true
   },
   "outputs": [],
   "source": [
    "loans ['Annual Income'].plot(kind = 'hist')"
   ]
  },
  {
   "cell_type": "code",
   "execution_count": null,
   "metadata": {
    "collapsed": true
   },
   "outputs": [],
   "source": [
    "loans['Annual Income'].value_counts()\n",
    "loans['Annual Income'].describe()"
   ]
  }
 ],
 "metadata": {
  "kernelspec": {
   "display_name": "Python 2",
   "language": "python",
   "name": "python2"
  },
  "language_info": {
   "codemirror_mode": {
    "name": "ipython",
    "version": 2
   },
   "file_extension": ".py",
   "mimetype": "text/x-python",
   "name": "python",
   "nbconvert_exporter": "python",
   "pygments_lexer": "ipython2",
   "version": "2.7.13"
  }
 },
 "nbformat": 4,
 "nbformat_minor": 2
}
