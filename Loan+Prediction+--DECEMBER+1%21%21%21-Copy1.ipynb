{
 "cells": [
  {
   "cell_type": "markdown",
   "metadata": {},
   "source": [
    "## Step 1: Import Data"
   ]
  },
  {
   "cell_type": "code",
   "execution_count": null,
   "metadata": {
    "collapsed": true,
    "scrolled": false
   },
   "outputs": [],
   "source": [
    "# import packages\n",
    "import pandas as pd\n",
    "import numpy as np\n",
    "\n",
    "# remove warnings so outputs look better when running cells\n",
    "import warnings\n",
    "#warnings.filterwarnings('ignore')\n",
    "\n",
    "# read file, low_memory is set to False as required by a system message\n",
    "df = pd.read_csv(\"LoansTrainingSet.csv\", low_memory = False)"
   ]
  },
  {
   "cell_type": "markdown",
   "metadata": {},
   "source": [
    "### i) Rename columns for convenience"
   ]
  },
  {
   "cell_type": "code",
   "execution_count": null,
   "metadata": {
    "collapsed": true,
    "scrolled": true
   },
   "outputs": [],
   "source": [
    "# rename columns for typing convenience\n",
    "df.columns = ['loanid', 'custid', 'loan_status', 'loan_amount', 'term', 'credit_score', 'years_in_job', 'home_ownership', 'income', 'purpose', 'monthly_debt', 'years_credhistory', 'months_since_del', 'nr_accounts', 'nr_problems', 'credit_balance', 'max_credit', 'bankr', 'tax_liens']"
   ]
  },
  {
   "cell_type": "markdown",
   "metadata": {
    "collapsed": true
   },
   "source": [
    "### ii) Eliminate Duplicate Rows\n",
    "\n",
    "We eliminate 16k duplicate rows from our dataset (these are exactly identical rows).For each loan ID, there should be ONLY ONE single row of data that we will use to predict the probability of default for that loan."
   ]
  },
  {
   "cell_type": "code",
   "execution_count": null,
   "metadata": {},
   "outputs": [],
   "source": [
    "#eliminate identical duplicate rows\n",
    "print df.shape  #256k rows\n",
    "df.drop_duplicates(inplace = True) #eliminate duplicate rows\n",
    "print df.shape # 240k rows remain after exact duplicates are dropped"
   ]
  },
  {
   "cell_type": "markdown",
   "metadata": {},
   "source": [
    "## Step 2: Data Cleaning"
   ]
  },
  {
   "cell_type": "markdown",
   "metadata": {},
   "source": [
    "### Target Variable: Make loan_status easier to use by converting it to zero's and one's"
   ]
  },
  {
   "cell_type": "code",
   "execution_count": null,
   "metadata": {
    "collapsed": true
   },
   "outputs": [],
   "source": [
    "# loan_status is set to 0 and 1 instead of Charged Off and Fully Paid\n",
    "z = {'Charged Off':0, 'Fully Paid':1, }\n",
    "df.loan_status = df.loan_status.map(z)"
   ]
  },
  {
   "cell_type": "markdown",
   "metadata": {},
   "source": [
    "### Data Overview and Missing Values\n",
    "- There are numerical and non-numerical variables.\n",
    "- 16k duplicate rows (exactly identical rows) were eliminated with drop_duplicates above\n",
    "- 59k remaining entries are missing the credit_score and income. There are other missing values for months_since_del, bankr, and tax_liens\n",
    "\n",
    "##### OBSERVATIONS: \n",
    "* WE COULD DROP THE MONTHS-SINCE-DEL COLUMN OR THE ROWS!!!! ?????\n",
    "* DO PARTIAL DEP OR CORRELATIONS!!!!!!!\n",
    "* ALSO PLOT TRAIN ERROR VERSUS TEST ERROR\n",
    "* We could use numbers for years in the job, replacing by ZERO the N/A's\n",
    "* USE GRIDSEARCH AND CV TO CHOOSE PARAMETERS AND DATA COLUMNS===> USING RECALL INSTEAD OF ACCURACY!!!!\n",
    "* Use gridsearch or proba function to tune recall versus the other"
   ]
  },
  {
   "cell_type": "code",
   "execution_count": null,
   "metadata": {
    "collapsed": true
   },
   "outputs": [],
   "source": [
    "# Eliminate Missing Values\n",
    "df.dropna (subset = ['credit_score', 'income', 'bankr', 'tax_liens' ], inplace = True)"
   ]
  },
  {
   "cell_type": "markdown",
   "metadata": {},
   "source": [
    "### Validation and Feature Engineering"
   ]
  },
  {
   "cell_type": "markdown",
   "metadata": {},
   "source": [
    "#### I) CATEGORICAL VARIABLES\n",
    "#### Drop loan id duplicates"
   ]
  },
  {
   "cell_type": "code",
   "execution_count": 6,
   "metadata": {
    "collapsed": true
   },
   "outputs": [],
   "source": [
    "df = df.drop_duplicates(subset = 'loanid')"
   ]
  },
  {
   "cell_type": "markdown",
   "metadata": {},
   "source": [
    "#### _Years in Job_: Create bins for years-in_job to form the new column 'years_in_job2'"
   ]
  },
  {
   "cell_type": "code",
   "execution_count": 7,
   "metadata": {
    "collapsed": true
   },
   "outputs": [],
   "source": [
    "w = {'10+ years': 'Over 10 years', '< 1 year': 'Less than 1 Year','1 year':'1-5', '2 years': '1-5', '3 years':'1-5', '4 years': '1-5', '5 years': '1-5','6 years': '6-10', '7 years': '6-10', '8 years': '6-10', '9 years': '6-10','n/a': 'Not Applicable'}\n",
    "df['years_in_job2'] = df.years_in_job.map(w)"
   ]
  },
  {
   "cell_type": "markdown",
   "metadata": {},
   "source": [
    "#### Home Ownership: Replace HaveMortgage with Home Mortgage"
   ]
  },
  {
   "cell_type": "code",
   "execution_count": 8,
   "metadata": {
    "collapsed": true
   },
   "outputs": [],
   "source": [
    "df.loc[df.home_ownership == 'HaveMortgage', 'home_ownership'] = 'Home Mortgage'"
   ]
  },
  {
   "cell_type": "markdown",
   "metadata": {},
   "source": [
    "#### II) NUMERICAL VARIABLES"
   ]
  },
  {
   "cell_type": "markdown",
   "metadata": {},
   "source": [
    "#### loan_amount: drop 35k invalid entries of 999999"
   ]
  },
  {
   "cell_type": "code",
   "execution_count": 9,
   "metadata": {
    "collapsed": true
   },
   "outputs": [],
   "source": [
    "df = df[df.loan_amount < 200000]"
   ]
  },
  {
   "cell_type": "markdown",
   "metadata": {},
   "source": [
    "#### Credit Scores: \n",
    "__Correct credit scores over 800 (divide them by 10)__"
   ]
  },
  {
   "cell_type": "code",
   "execution_count": 10,
   "metadata": {
    "collapsed": true
   },
   "outputs": [],
   "source": [
    "df.credit_score = df.credit_score.apply (lambda x: x/10 if x > 800 else x)"
   ]
  },
  {
   "cell_type": "markdown",
   "metadata": {},
   "source": [
    "#### income\n",
    "__ Drop 14 values over 1000000__"
   ]
  },
  {
   "cell_type": "code",
   "execution_count": 11,
   "metadata": {
    "collapsed": true
   },
   "outputs": [],
   "source": [
    "df = df[df.income<1000000]"
   ]
  },
  {
   "cell_type": "markdown",
   "metadata": {},
   "source": [
    "#### Transform number of bankruptcies to objects"
   ]
  },
  {
   "cell_type": "code",
   "execution_count": 12,
   "metadata": {
    "collapsed": true
   },
   "outputs": [],
   "source": [
    "#dummies will be created later for this feature\n",
    "df.bankr = df.bankr.astype(object)"
   ]
  },
  {
   "cell_type": "markdown",
   "metadata": {},
   "source": [
    "#### Monthly Debt\n",
    "* Clean up monthly debt\n",
    "* Eliminate values over 6000"
   ]
  },
  {
   "cell_type": "code",
   "execution_count": 13,
   "metadata": {
    "collapsed": true
   },
   "outputs": [],
   "source": [
    "df.monthly_debt = df.monthly_debt.str.replace ('$', '')\n",
    "df.monthly_debt = df.monthly_debt.str.replace (',', '')\n",
    "df.monthly_debt = df.monthly_debt.apply(lambda x: float(x) )"
   ]
  },
  {
   "cell_type": "code",
   "execution_count": 14,
   "metadata": {
    "collapsed": true
   },
   "outputs": [],
   "source": [
    "df = df[df.monthly_debt<=6000]"
   ]
  },
  {
   "cell_type": "markdown",
   "metadata": {},
   "source": [
    "## 3) Select Variables for Model and Get Dummies"
   ]
  },
  {
   "cell_type": "code",
   "execution_count": null,
   "metadata": {
    "collapsed": true
   },
   "outputs": [],
   "source": []
  },
  {
   "cell_type": "code",
   "execution_count": 15,
   "metadata": {},
   "outputs": [
    {
     "data": {
      "text/plain": [
       "(135646, 20)"
      ]
     },
     "execution_count": 15,
     "metadata": {},
     "output_type": "execute_result"
    }
   ],
   "source": [
    "df.shape"
   ]
  },
  {
   "cell_type": "code",
   "execution_count": 16,
   "metadata": {},
   "outputs": [
    {
     "name": "stdout",
     "output_type": "stream",
     "text": [
      "<class 'pandas.core.frame.DataFrame'>\n",
      "Int64Index: 135646 entries, 0 to 256983\n",
      "Data columns (total 20 columns):\n",
      "loanid               135646 non-null object\n",
      "custid               135646 non-null object\n",
      "loan_status          135646 non-null int64\n",
      "loan_amount          135646 non-null int64\n",
      "term                 135646 non-null object\n",
      "credit_score         135646 non-null float64\n",
      "years_in_job         135646 non-null object\n",
      "home_ownership       135646 non-null object\n",
      "income               135646 non-null float64\n",
      "purpose              135646 non-null object\n",
      "monthly_debt         135646 non-null float64\n",
      "years_credhistory    135646 non-null float64\n",
      "months_since_del     61328 non-null float64\n",
      "nr_accounts          135646 non-null int64\n",
      "nr_problems          135646 non-null int64\n",
      "credit_balance       135646 non-null int64\n",
      "max_credit           135646 non-null object\n",
      "bankr                135646 non-null object\n",
      "tax_liens            135646 non-null float64\n",
      "years_in_job2        135646 non-null object\n",
      "dtypes: float64(6), int64(5), object(9)\n",
      "memory usage: 21.7+ MB\n"
     ]
    }
   ],
   "source": [
    "df.info()"
   ]
  },
  {
   "cell_type": "code",
   "execution_count": 22,
   "metadata": {
    "collapsed": true
   },
   "outputs": [],
   "source": [
    "Xy = df.copy()\n",
    "Xy.drop(['loanid', 'custid','years_credhistory', 'months_since_del', 'nr_accounts', 'nr_problems', 'credit_balance', 'max_credit'], axis = 1, inplace = True)"
   ]
  },
  {
   "cell_type": "code",
   "execution_count": 23,
   "metadata": {},
   "outputs": [
    {
     "data": {
      "text/plain": [
       "Index([u'loan_status', u'loan_amount', u'term', u'credit_score',\n",
       "       u'years_in_job', u'home_ownership', u'income', u'purpose',\n",
       "       u'monthly_debt', u'bankr', u'tax_liens', u'years_in_job2'],\n",
       "      dtype='object')"
      ]
     },
     "execution_count": 23,
     "metadata": {},
     "output_type": "execute_result"
    }
   ],
   "source": [
    "Xy.columns"
   ]
  },
  {
   "cell_type": "code",
   "execution_count": null,
   "metadata": {
    "collapsed": true
   },
   "outputs": [],
   "source": [
    "# ADD CUSTID, LOANID??"
   ]
  },
  {
   "cell_type": "code",
   "execution_count": null,
   "metadata": {
    "collapsed": true
   },
   "outputs": [],
   "source": [
    "## ADD CUSTID AND ENGINEER DEBT TO INCOME!!!!"
   ]
  },
  {
   "cell_type": "markdown",
   "metadata": {
    "collapsed": true
   },
   "source": [
    "## 3) Prepare Model"
   ]
  },
  {
   "cell_type": "code",
   "execution_count": null,
   "metadata": {
    "collapsed": true
   },
   "outputs": [],
   "source": [
    "## GREAT CODE FOR DEFININING VARIABLES THAT GO IN THE MODEL!!!!!\n",
    "#X.columns\n",
    "#X = combined [['']]"
   ]
  },
  {
   "cell_type": "code",
   "execution_count": null,
   "metadata": {
    "collapsed": true
   },
   "outputs": [],
   "source": [
    "#input_features=df[['Years of Credit History','Monthly Debt']]\n",
    "#to_predict1=df[['Annual Income']]"
   ]
  },
  {
   "cell_type": "code",
   "execution_count": 24,
   "metadata": {
    "collapsed": true
   },
   "outputs": [],
   "source": [
    "X=Xy.copy()\n",
    "del X['loan_status']\n",
    "y=Xy['loan_status']\n"
   ]
  },
  {
   "cell_type": "markdown",
   "metadata": {},
   "source": [
    "### Get Dummies"
   ]
  },
  {
   "cell_type": "code",
   "execution_count": 25,
   "metadata": {},
   "outputs": [
    {
     "data": {
      "text/plain": [
       "Index([u'loan_amount', u'term', u'credit_score', u'years_in_job',\n",
       "       u'home_ownership', u'income', u'purpose', u'monthly_debt', u'bankr',\n",
       "       u'tax_liens', u'years_in_job2'],\n",
       "      dtype='object')"
      ]
     },
     "execution_count": 25,
     "metadata": {},
     "output_type": "execute_result"
    }
   ],
   "source": [
    "X.columns"
   ]
  },
  {
   "cell_type": "code",
   "execution_count": 26,
   "metadata": {},
   "outputs": [],
   "source": [
    "X=pd.get_dummies(X,drop_first=True)"
   ]
  },
  {
   "cell_type": "code",
   "execution_count": 27,
   "metadata": {},
   "outputs": [
    {
     "data": {
      "text/html": [
       "<div>\n",
       "<style>\n",
       "    .dataframe thead tr:only-child th {\n",
       "        text-align: right;\n",
       "    }\n",
       "\n",
       "    .dataframe thead th {\n",
       "        text-align: left;\n",
       "    }\n",
       "\n",
       "    .dataframe tbody tr th {\n",
       "        vertical-align: top;\n",
       "    }\n",
       "</style>\n",
       "<table border=\"1\" class=\"dataframe\">\n",
       "  <thead>\n",
       "    <tr style=\"text-align: right;\">\n",
       "      <th></th>\n",
       "      <th>loan_amount</th>\n",
       "      <th>credit_score</th>\n",
       "      <th>income</th>\n",
       "      <th>monthly_debt</th>\n",
       "      <th>tax_liens</th>\n",
       "      <th>term_Short Term</th>\n",
       "      <th>years_in_job_10+ years</th>\n",
       "      <th>years_in_job_2 years</th>\n",
       "      <th>years_in_job_3 years</th>\n",
       "      <th>years_in_job_4 years</th>\n",
       "      <th>...</th>\n",
       "      <th>bankr_1.0</th>\n",
       "      <th>bankr_2.0</th>\n",
       "      <th>bankr_3.0</th>\n",
       "      <th>bankr_4.0</th>\n",
       "      <th>bankr_5.0</th>\n",
       "      <th>bankr_6.0</th>\n",
       "      <th>years_in_job2_6-10</th>\n",
       "      <th>years_in_job2_Less than 1 Year</th>\n",
       "      <th>years_in_job2_Not Applicable</th>\n",
       "      <th>years_in_job2_Over 10 years</th>\n",
       "    </tr>\n",
       "  </thead>\n",
       "  <tbody>\n",
       "    <tr>\n",
       "      <th>0</th>\n",
       "      <td>11520</td>\n",
       "      <td>741.0</td>\n",
       "      <td>33694.0</td>\n",
       "      <td>584.03</td>\n",
       "      <td>0.0</td>\n",
       "      <td>1</td>\n",
       "      <td>1</td>\n",
       "      <td>0</td>\n",
       "      <td>0</td>\n",
       "      <td>0</td>\n",
       "      <td>...</td>\n",
       "      <td>0</td>\n",
       "      <td>0</td>\n",
       "      <td>0</td>\n",
       "      <td>0</td>\n",
       "      <td>0</td>\n",
       "      <td>0</td>\n",
       "      <td>0</td>\n",
       "      <td>0</td>\n",
       "      <td>0</td>\n",
       "      <td>1</td>\n",
       "    </tr>\n",
       "    <tr>\n",
       "      <th>1</th>\n",
       "      <td>3441</td>\n",
       "      <td>734.0</td>\n",
       "      <td>42269.0</td>\n",
       "      <td>1106.04</td>\n",
       "      <td>0.0</td>\n",
       "      <td>1</td>\n",
       "      <td>0</td>\n",
       "      <td>0</td>\n",
       "      <td>0</td>\n",
       "      <td>1</td>\n",
       "      <td>...</td>\n",
       "      <td>0</td>\n",
       "      <td>0</td>\n",
       "      <td>0</td>\n",
       "      <td>0</td>\n",
       "      <td>0</td>\n",
       "      <td>0</td>\n",
       "      <td>0</td>\n",
       "      <td>0</td>\n",
       "      <td>0</td>\n",
       "      <td>0</td>\n",
       "    </tr>\n",
       "    <tr>\n",
       "      <th>2</th>\n",
       "      <td>21029</td>\n",
       "      <td>747.0</td>\n",
       "      <td>90126.0</td>\n",
       "      <td>1321.85</td>\n",
       "      <td>0.0</td>\n",
       "      <td>1</td>\n",
       "      <td>1</td>\n",
       "      <td>0</td>\n",
       "      <td>0</td>\n",
       "      <td>0</td>\n",
       "      <td>...</td>\n",
       "      <td>0</td>\n",
       "      <td>0</td>\n",
       "      <td>0</td>\n",
       "      <td>0</td>\n",
       "      <td>0</td>\n",
       "      <td>0</td>\n",
       "      <td>0</td>\n",
       "      <td>0</td>\n",
       "      <td>0</td>\n",
       "      <td>1</td>\n",
       "    </tr>\n",
       "    <tr>\n",
       "      <th>3</th>\n",
       "      <td>18743</td>\n",
       "      <td>747.0</td>\n",
       "      <td>38072.0</td>\n",
       "      <td>751.92</td>\n",
       "      <td>0.0</td>\n",
       "      <td>1</td>\n",
       "      <td>1</td>\n",
       "      <td>0</td>\n",
       "      <td>0</td>\n",
       "      <td>0</td>\n",
       "      <td>...</td>\n",
       "      <td>0</td>\n",
       "      <td>0</td>\n",
       "      <td>0</td>\n",
       "      <td>0</td>\n",
       "      <td>0</td>\n",
       "      <td>0</td>\n",
       "      <td>0</td>\n",
       "      <td>0</td>\n",
       "      <td>0</td>\n",
       "      <td>1</td>\n",
       "    </tr>\n",
       "    <tr>\n",
       "      <th>4</th>\n",
       "      <td>11731</td>\n",
       "      <td>746.0</td>\n",
       "      <td>50025.0</td>\n",
       "      <td>355.18</td>\n",
       "      <td>0.0</td>\n",
       "      <td>1</td>\n",
       "      <td>0</td>\n",
       "      <td>0</td>\n",
       "      <td>0</td>\n",
       "      <td>1</td>\n",
       "      <td>...</td>\n",
       "      <td>0</td>\n",
       "      <td>0</td>\n",
       "      <td>0</td>\n",
       "      <td>0</td>\n",
       "      <td>0</td>\n",
       "      <td>0</td>\n",
       "      <td>0</td>\n",
       "      <td>0</td>\n",
       "      <td>0</td>\n",
       "      <td>0</td>\n",
       "    </tr>\n",
       "  </tbody>\n",
       "</table>\n",
       "<p>5 rows × 38 columns</p>\n",
       "</div>"
      ],
      "text/plain": [
       "   loan_amount  credit_score   income  monthly_debt  tax_liens  \\\n",
       "0        11520         741.0  33694.0        584.03        0.0   \n",
       "1         3441         734.0  42269.0       1106.04        0.0   \n",
       "2        21029         747.0  90126.0       1321.85        0.0   \n",
       "3        18743         747.0  38072.0        751.92        0.0   \n",
       "4        11731         746.0  50025.0        355.18        0.0   \n",
       "\n",
       "   term_Short Term  years_in_job_10+ years  years_in_job_2 years  \\\n",
       "0                1                       1                     0   \n",
       "1                1                       0                     0   \n",
       "2                1                       1                     0   \n",
       "3                1                       1                     0   \n",
       "4                1                       0                     0   \n",
       "\n",
       "   years_in_job_3 years  years_in_job_4 years             ...               \\\n",
       "0                     0                     0             ...                \n",
       "1                     0                     1             ...                \n",
       "2                     0                     0             ...                \n",
       "3                     0                     0             ...                \n",
       "4                     0                     1             ...                \n",
       "\n",
       "   bankr_1.0  bankr_2.0  bankr_3.0  bankr_4.0  bankr_5.0  bankr_6.0  \\\n",
       "0          0          0          0          0          0          0   \n",
       "1          0          0          0          0          0          0   \n",
       "2          0          0          0          0          0          0   \n",
       "3          0          0          0          0          0          0   \n",
       "4          0          0          0          0          0          0   \n",
       "\n",
       "   years_in_job2_6-10  years_in_job2_Less than 1 Year  \\\n",
       "0                   0                               0   \n",
       "1                   0                               0   \n",
       "2                   0                               0   \n",
       "3                   0                               0   \n",
       "4                   0                               0   \n",
       "\n",
       "   years_in_job2_Not Applicable  years_in_job2_Over 10 years  \n",
       "0                             0                            1  \n",
       "1                             0                            0  \n",
       "2                             0                            1  \n",
       "3                             0                            1  \n",
       "4                             0                            0  \n",
       "\n",
       "[5 rows x 38 columns]"
      ]
     },
     "execution_count": 27,
     "metadata": {},
     "output_type": "execute_result"
    }
   ],
   "source": [
    "X.head()"
   ]
  },
  {
   "cell_type": "markdown",
   "metadata": {},
   "source": [
    "### OBSERVATIONS\n",
    "* ###### CALCULATE THE ERROR FOR THE TRAIN DATA AT THE SAME TIME AS THE TEST DATA!!!! PLOT WOULD BE GREAT!!!!!\n",
    "* ###### ENGINEER SOME VARIABLES, like debt to income"
   ]
  },
  {
   "cell_type": "code",
   "execution_count": 28,
   "metadata": {},
   "outputs": [
    {
     "name": "stderr",
     "output_type": "stream",
     "text": [
      "C:\\Users\\nfolcini\\Anaconda2\\lib\\site-packages\\sklearn\\cross_validation.py:41: DeprecationWarning: This module was deprecated in version 0.18 in favor of the model_selection module into which all the refactored classes and functions are moved. Also note that the interface of the new CV iterators are different from that of this module. This module will be removed in 0.20.\n",
      "  \"This module will be removed in 0.20.\", DeprecationWarning)\n"
     ]
    }
   ],
   "source": [
    "from sklearn.cross_validation import train_test_split as tts\n",
    "X_train, X_test, y_train, y_test = tts(X, y, test_size = .2, random_state = 33)"
   ]
  },
  {
   "cell_type": "code",
   "execution_count": 31,
   "metadata": {},
   "outputs": [
    {
     "ename": "NameError",
     "evalue": "name 'fit' is not defined",
     "output_type": "error",
     "traceback": [
      "\u001b[1;31m---------------------------------------------------------------------------\u001b[0m",
      "\u001b[1;31mNameError\u001b[0m                                 Traceback (most recent call last)",
      "\u001b[1;32m<ipython-input-31-6cfec0a0c868>\u001b[0m in \u001b[0;36m<module>\u001b[1;34m()\u001b[0m\n\u001b[0;32m      6\u001b[0m \u001b[0mfitting\u001b[0m \u001b[1;33m=\u001b[0m \u001b[0mrfe\u001b[0m\u001b[1;33m.\u001b[0m\u001b[0mfit\u001b[0m\u001b[1;33m(\u001b[0m\u001b[0mX\u001b[0m\u001b[1;33m,\u001b[0m\u001b[0my\u001b[0m\u001b[1;33m)\u001b[0m\u001b[1;33m\u001b[0m\u001b[0m\n\u001b[0;32m      7\u001b[0m \u001b[1;33m\u001b[0m\u001b[0m\n\u001b[1;32m----> 8\u001b[1;33m \u001b[1;32mprint\u001b[0m\u001b[1;33m(\u001b[0m\u001b[1;34m\"Num features: %d\"\u001b[0m \u001b[1;33m%\u001b[0m \u001b[0mfit\u001b[0m\u001b[1;33m.\u001b[0m\u001b[0mn_features_\u001b[0m\u001b[1;33m)\u001b[0m\u001b[1;33m\u001b[0m\u001b[0m\n\u001b[0m",
      "\u001b[1;31mNameError\u001b[0m: name 'fit' is not defined"
     ]
    }
   ],
   "source": [
    "from sklearn.ensemble import GradientBoostingClassifier\n",
    "from sklearn.feature_selection import RFE\n",
    "\n",
    "model = GradientBoostingClassifier()\n",
    "rfe = RFE(model,3)\n",
    "fitting = rfe.fit(X,y)\n",
    "\n",
    "print(\"Num features: %d\" % fit.n_features_)"
   ]
  },
  {
   "cell_type": "code",
   "execution_count": null,
   "metadata": {
    "collapsed": true
   },
   "outputs": [],
   "source": [
    "model2 = GradientBoostingClassifier()\n",
    "model2.fit(X,y)"
   ]
  },
  {
   "cell_type": "code",
   "execution_count": null,
   "metadata": {
    "collapsed": true
   },
   "outputs": [],
   "source": [
    "print(model2.feature_importances_)"
   ]
  },
  {
   "cell_type": "code",
   "execution_count": null,
   "metadata": {
    "collapsed": true
   },
   "outputs": [],
   "source": [
    "# Fit Models: Logistic Reg, Decision Trees, Random Forest, Gradient Boosting Classifier, AdaBoost Classifier\n",
    "from sklearn.linear_model import LogisticRegression \n",
    "from sklearn.tree import DecisionTreeClassifier \n",
    "from sklearn.ensemble import RandomForestClassifier \n",
    "from sklearn.ensemble import GradientBoostingClassifier \n",
    "from sklearn.ensemble import AdaBoostClassifier \n",
    "\n",
    "log = LogisticRegression()\n",
    "tree = DecisionTreeClassifier()\n",
    "forest = RandomForestClassifier()\n",
    "gradient = GradientBoostingClassifier()\n",
    "ada = AdaBoostClassifier()"
   ]
  },
  {
   "cell_type": "code",
   "execution_count": null,
   "metadata": {
    "collapsed": true
   },
   "outputs": [],
   "source": [
    "### Optimize for recall instead of accuracy!!!"
   ]
  },
  {
   "cell_type": "code",
   "execution_count": null,
   "metadata": {
    "collapsed": true
   },
   "outputs": [],
   "source": [
    "l = log.fit(X_train, y_train)\n",
    "t = tree.fit(X_train, y_train)\n",
    "f = forest.fit(X_train, y_train)\n",
    "g = gradient.fit(X_train, y_train)\n",
    "a = ada.fit(X_train, y_train)"
   ]
  },
  {
   "cell_type": "code",
   "execution_count": null,
   "metadata": {
    "collapsed": true
   },
   "outputs": [],
   "source": [
    "print(\"The score for Logistic Regression is, \", l.score(X_test, y_test))\n",
    "print(\"The score for Decision Trees is \", t.score(X_test, y_test))\n",
    "print(\"The score for Random Forest is \", f.score(X_test, y_test))\n",
    "print(\"The score for Gradient Boosting is \", g.score(X_test, y_test))\n",
    "print(\"The score for AdaBoost is \", a.score(X_test, y_test))"
   ]
  },
  {
   "cell_type": "code",
   "execution_count": null,
   "metadata": {
    "collapsed": true
   },
   "outputs": [],
   "source": [
    "from sklearn.metrics import recall_score,precision_score,f1_score"
   ]
  },
  {
   "cell_type": "code",
   "execution_count": null,
   "metadata": {
    "collapsed": true
   },
   "outputs": [],
   "source": [
    "pred=g.predict(X_test)"
   ]
  },
  {
   "cell_type": "code",
   "execution_count": null,
   "metadata": {
    "collapsed": true
   },
   "outputs": [],
   "source": [
    "print recall_score(y_test, pred)\n",
    "print precision_score(y_test,pred)\n",
    "print f1_score(y_test,pred)"
   ]
  },
  {
   "cell_type": "code",
   "execution_count": null,
   "metadata": {
    "collapsed": true
   },
   "outputs": [],
   "source": [
    "from xgboost import XGBClassifier\n",
    "from xgboost import plot_importance"
   ]
  },
  {
   "cell_type": "markdown",
   "metadata": {},
   "source": [
    "## Apply XGBOOST"
   ]
  },
  {
   "cell_type": "code",
   "execution_count": null,
   "metadata": {
    "collapsed": true
   },
   "outputs": [],
   "source": [
    "#instantiate a model, create a param grid\n",
    "model = XGBClassifier(max_depth = 5, learning_rate = .01, n_estimators = 2000, nthread = -1, min_child_weight = 2, subsample = .6, colsample_bylevel = .5, seed = 0 )\n",
    "#TRY COLUMN SAMPLE BY TREE!!!\n"
   ]
  },
  {
   "cell_type": "code",
   "execution_count": null,
   "metadata": {
    "collapsed": true
   },
   "outputs": [],
   "source": [
    "X_train.shape"
   ]
  },
  {
   "cell_type": "code",
   "execution_count": null,
   "metadata": {
    "collapsed": true
   },
   "outputs": [],
   "source": [
    "X_train.columns = [u'loan_amount', u'credit_score', u'income', u'monthly_debt',\n",
    "       u'tax_liens', u'term_Short Term', u'years_in_job_10+ years',\n",
    "       u'years_in_job_2 years', u'years_in_job_3 years',\n",
    "       u'years_in_job_4 years', u'years_in_job_5 years',\n",
    "       u'years_in_job_6 years', u'years_in_job_7 years',\n",
    "       u'years_in_job_8 years', u'years_in_job_9 years',\n",
    "       u'years_in_job_Under 1 year', u'years_in_job_n/a',\n",
    "       u'home_ownership_Own Home', u'home_ownership_Rent',\n",
    "       u'purpose_Buy House', u'purpose_Buy a Car',\n",
    "       u'purpose_Debt Consolidation', u'purpose_Educational Expenses',\n",
    "       u'purpose_Home Improvements', u'purpose_Medical Bills',\n",
    "       u'purpose_Other', u'purpose_Take a Trip', u'purpose_other',\n",
    "       u'bankr_1.0', u'bankr_2.0', u'bankr_3.0', u'bankr_4.0', u'bankr_5.0',\n",
    "       u'bankr_6.0', u'years_in_job2_6-10', u'years_in_job2_Less than 1 Year',\n",
    "       u'years_in_job2_Not Applicable', u'years_in_job2_Over 10 years']"
   ]
  },
  {
   "cell_type": "code",
   "execution_count": null,
   "metadata": {
    "collapsed": true
   },
   "outputs": [],
   "source": [
    "model.fit(X_train, y_train)"
   ]
  },
  {
   "cell_type": "code",
   "execution_count": null,
   "metadata": {
    "collapsed": true
   },
   "outputs": [],
   "source": [
    "X_test.columns = [u'loan_amount', u'credit_score', u'income', u'monthly_debt',\n",
    "       u'tax_liens', u'term_Short Term', u'years_in_job_10+ years',\n",
    "       u'years_in_job_2 years', u'years_in_job_3 years',\n",
    "       u'years_in_job_4 years', u'years_in_job_5 years',\n",
    "       u'years_in_job_6 years', u'years_in_job_7 years',\n",
    "       u'years_in_job_8 years', u'years_in_job_9 years',\n",
    "       u'years_in_job_Under 1 year', u'years_in_job_n/a',\n",
    "       u'home_ownership_Own Home', u'home_ownership_Rent',\n",
    "       u'purpose_Buy House', u'purpose_Buy a Car',\n",
    "       u'purpose_Debt Consolidation', u'purpose_Educational Expenses',\n",
    "       u'purpose_Home Improvements', u'purpose_Medical Bills',\n",
    "       u'purpose_Other', u'purpose_Take a Trip', u'purpose_other',\n",
    "       u'bankr_1.0', u'bankr_2.0', u'bankr_3.0', u'bankr_4.0', u'bankr_5.0',\n",
    "       u'bankr_6.0', u'years_in_job2_6-10', u'years_in_job2_Less than 1 Year',\n",
    "       u'years_in_job2_Not Applicable', u'years_in_job2_Over 10 years']"
   ]
  },
  {
   "cell_type": "code",
   "execution_count": null,
   "metadata": {
    "collapsed": true
   },
   "outputs": [],
   "source": [
    "print(\"The score for XGB is \", model.score(X_test, y_test))"
   ]
  },
  {
   "cell_type": "markdown",
   "metadata": {},
   "source": [
    "## Feature Importance w / Zia"
   ]
  },
  {
   "cell_type": "code",
   "execution_count": null,
   "metadata": {
    "collapsed": true
   },
   "outputs": [],
   "source": [
    "f = g.feature_importances_"
   ]
  },
  {
   "cell_type": "code",
   "execution_count": null,
   "metadata": {
    "collapsed": true
   },
   "outputs": [],
   "source": [
    "len(f)"
   ]
  },
  {
   "cell_type": "code",
   "execution_count": null,
   "metadata": {
    "collapsed": true
   },
   "outputs": [],
   "source": [
    "feat_imp = pd.DataFrame(data = {'Feature Name': X.columns, 'Feature Importance': f},columns = ['Feature Name', 'Feature Importance'])"
   ]
  },
  {
   "cell_type": "code",
   "execution_count": null,
   "metadata": {
    "collapsed": true
   },
   "outputs": [],
   "source": [
    "feat_imp.sort_values('Feature Importance', ascending = False, inplace = True)"
   ]
  },
  {
   "cell_type": "code",
   "execution_count": null,
   "metadata": {
    "collapsed": true
   },
   "outputs": [],
   "source": [
    "feat_imp"
   ]
  },
  {
   "cell_type": "code",
   "execution_count": null,
   "metadata": {
    "collapsed": true
   },
   "outputs": [],
   "source": []
  }
 ],
 "metadata": {
  "kernelspec": {
   "display_name": "Python 2",
   "language": "python",
   "name": "python2"
  },
  "language_info": {
   "codemirror_mode": {
    "name": "ipython",
    "version": 2
   },
   "file_extension": ".py",
   "mimetype": "text/x-python",
   "name": "python",
   "nbconvert_exporter": "python",
   "pygments_lexer": "ipython2",
   "version": "2.7.13"
  }
 },
 "nbformat": 4,
 "nbformat_minor": 2
}
